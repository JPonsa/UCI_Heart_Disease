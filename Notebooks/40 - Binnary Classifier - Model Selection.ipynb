{
 "cells": [
  {
   "cell_type": "markdown",
   "metadata": {},
   "source": [
    "### Intro\n",
    "\n",
    "I performed competition of different methods for binary classification. Methods were selected to cover different families of ML models. Preliminary result of the expected performance can be seen at https://archive.ics.uci.edu/dataset/45/heart+disease > \"Baseline Model Performance\"\n",
    "\n",
    "Ranking metric: F1 score\n",
    "\n",
    "Model Competition: \n",
    "\n",
    "1. **Logistic Regression**:\n",
    "   - Description: Logistic Regression is a linear model that is commonly used for binary classification tasks. It models the probability of a binary outcome using the logistic function.\n",
    "\n",
    "2. **XGBoost (Extreme Gradient Boosting)**:\n",
    "   - Description: XGBoost is a gradient boosting framework known for its high performance and accuracy in classification tasks. It is an ensemble learning method that combines multiple decision trees.\n",
    "\n",
    "3. **LightGBM (Light Gradient Boosting Machine)**:\n",
    "   - Description: LightGBM is another gradient boosting framework that is highly efficient and handles large datasets with ease. It uses a histogram-based approach to improve training speed.\n",
    "\n",
    "4. **Neural Network**:\n",
    "   - Description: A neural network-based model, such as a deep feedforward neural network or a convolutional neural network, can capture complex patterns in data for classification tasks. It is highly versatile and can be adapted for various tasks.\n",
    "\n",
    "5. **Random Forest**:\n",
    "   - Description: Random Forest is an ensemble learning method that combines multiple decision trees to improve classification accuracy. It is robust, handles overfitting well, and can capture complex relationships in the data.\n",
    "\n",
    "6. **Support Vector Machine (SVM)**:\n",
    "   - Description: Support Vector Machines are powerful classifiers that aim to find the optimal hyperplane to separate different classes in the data. They are effective for both linear and nonlinear classification tasks.\n",
    "\n",
    "7. **K-Nearest Neighbors**:\n",
    "   - Description: K-Nearest Neighbors is a simple and effective classification algorithm that classifies data points based on the majority class among their k-nearest neighbors in the feature space.\n",
    "\n",
    "8. **Naive Bayes**:\n",
    "   - Description: Naive Bayes is a probabilistic classification algorithm based on Bayes' theorem. It assumes that features are conditionally independent, making it computationally efficient and effective for text classification tasks.\n",
    "\n",
    "9. **Decision Tree**:\n",
    "   - Description: Decision Trees are a non-parametric classification algorithm that splits the data into different classes by making decisions based on features at each node of the tree. They are interpretable and can model complex decision boundaries.\n",
    "\n",
    "10. **AdaBoost (Adaptive Boosting)**:\n",
    "    - Description: AdaBoost is an ensemble learning method that combines multiple weak classifiers to create a strong classifier. It focuses on misclassified instances in each iteration, improving classification accuracy.\n"
   ]
  },
  {
   "cell_type": "code",
   "execution_count": 1,
   "metadata": {},
   "outputs": [],
   "source": [
    "from collections import Counter\n",
    "import numpy as np\n",
    "import pandas as pd\n",
    "\n",
    "import matplotlib.pyplot as plt\n",
    "import seaborn as sns\n",
    "\n",
    "from sklearn.compose import ColumnTransformer\n",
    "\n",
    "from sklearn.model_selection import train_test_split, cross_validate\n",
    "from sklearn.pipeline import Pipeline\n",
    "from sklearn.preprocessing import RobustScaler\n",
    "from sklearn.metrics import classification_report\n",
    "\n",
    "from sklearn.linear_model import LogisticRegression\n",
    "from xgboost import XGBClassifier\n",
    "from lightgbm import LGBMClassifier\n",
    "from sklearn.neural_network import MLPClassifier\n",
    "from sklearn.ensemble import RandomForestClassifier, AdaBoostClassifier\n",
    "from sklearn.svm import SVC\n",
    "from sklearn.neighbors import KNeighborsClassifier\n",
    "from sklearn.naive_bayes import GaussianNB\n",
    "from sklearn.tree import DecisionTreeClassifier"
   ]
  },
  {
   "cell_type": "code",
   "execution_count": 2,
   "metadata": {},
   "outputs": [],
   "source": [
    "# Load Dataset\n",
    "df = pd.read_csv(\"../data/uci_heart_disease.processed.tsv\", sep=\"\\t\")"
   ]
  },
  {
   "cell_type": "code",
   "execution_count": 3,
   "metadata": {},
   "outputs": [],
   "source": [
    "# Set random Seed\n",
    "np.random.seed(123)"
   ]
  },
  {
   "cell_type": "code",
   "execution_count": 4,
   "metadata": {},
   "outputs": [],
   "source": [
    "# Define relevant features\n",
    "# fmt:off\n",
    "numeric_features = [\"age\", \"trestbps\", \"thalach\", \"oldpeak\", \"slope\"]\n",
    "binary_features = [\"sex\", \"cp_1\", \"cp_2\", \"cp_3\", \"restecg_1\", \"restecg_2\", \"exang\"]\n",
    "features = numeric_features + binary_features\n",
    "# fmt:on\n",
    "target = \"num_01\""
   ]
  },
  {
   "cell_type": "code",
   "execution_count": 5,
   "metadata": {},
   "outputs": [],
   "source": [
    "# Split Train and test datasets\n",
    "X = df[features]\n",
    "y = df[target].values\n",
    "\n",
    "X_train, X_test, y_train, y_test = train_test_split(X, y, test_size=0.3, stratify=y)"
   ]
  },
  {
   "cell_type": "code",
   "execution_count": 6,
   "metadata": {},
   "outputs": [],
   "source": [
    "# Compute the positive weight to balance the sample\n",
    "counter = Counter(y)\n",
    "pos_weight = counter[0] / counter[1]"
   ]
  },
  {
   "cell_type": "code",
   "execution_count": 7,
   "metadata": {},
   "outputs": [],
   "source": [
    "# Set the list of models to compete\n",
    "models = {\n",
    "    \"Logistic Reg.\": LogisticRegression(class_weight=\"balanced\"),\n",
    "    \"XGBoost\": XGBClassifier(scale_pos_weight=pos_weight),\n",
    "    \"LightGBM\": LGBMClassifier(scale_pos_weight=pos_weight),\n",
    "    \"Neural Network\": MLPClassifier(),\n",
    "    \"Random Forest\": RandomForestClassifier(class_weight=\"balanced\"),\n",
    "    \"SVM\": SVC(class_weight=\"balanced\", probability=True),\n",
    "    \"K-NN\": KNeighborsClassifier(),\n",
    "    \"Naive Bayes\": GaussianNB(),\n",
    "    \"Decision Tree\": DecisionTreeClassifier(class_weight=\"balanced\"),\n",
    "    \"AdaBoost\": AdaBoostClassifier(),\n",
    "}"
   ]
  },
  {
   "cell_type": "code",
   "execution_count": 8,
   "metadata": {},
   "outputs": [],
   "source": [
    "# General preprocessing\n",
    "preprocessor = ColumnTransformer(\n",
    "    transformers=[\n",
    "        (\"num\", RobustScaler(), numeric_features),\n",
    "        (\"cat\", \"passthrough\", binary_features),\n",
    "    ]\n",
    ")"
   ]
  },
  {
   "cell_type": "code",
   "execution_count": 9,
   "metadata": {},
   "outputs": [
    {
     "name": "stderr",
     "output_type": "stream",
     "text": [
      "c:\\Users\\joanp\\anaconda3\\Lib\\site-packages\\sklearn\\neural_network\\_multilayer_perceptron.py:691: ConvergenceWarning: Stochastic Optimizer: Maximum iterations (200) reached and the optimization hasn't converged yet.\n",
      "  warnings.warn(\n",
      "c:\\Users\\joanp\\anaconda3\\Lib\\site-packages\\sklearn\\neural_network\\_multilayer_perceptron.py:691: ConvergenceWarning: Stochastic Optimizer: Maximum iterations (200) reached and the optimization hasn't converged yet.\n",
      "  warnings.warn(\n",
      "c:\\Users\\joanp\\anaconda3\\Lib\\site-packages\\sklearn\\neural_network\\_multilayer_perceptron.py:691: ConvergenceWarning: Stochastic Optimizer: Maximum iterations (200) reached and the optimization hasn't converged yet.\n",
      "  warnings.warn(\n",
      "c:\\Users\\joanp\\anaconda3\\Lib\\site-packages\\sklearn\\neural_network\\_multilayer_perceptron.py:691: ConvergenceWarning: Stochastic Optimizer: Maximum iterations (200) reached and the optimization hasn't converged yet.\n",
      "  warnings.warn(\n",
      "c:\\Users\\joanp\\anaconda3\\Lib\\site-packages\\sklearn\\neural_network\\_multilayer_perceptron.py:691: ConvergenceWarning: Stochastic Optimizer: Maximum iterations (200) reached and the optimization hasn't converged yet.\n",
      "  warnings.warn(\n"
     ]
    }
   ],
   "source": [
    "# Create pipelines for each model\n",
    "pipelines = {}\n",
    "for model_name, model in models.items():\n",
    "    pipeline = Pipeline([(\"preprocessor\", preprocessor), (\"classifier\", model)])\n",
    "    pipelines[model_name] = pipeline\n",
    "\n",
    "scoring = {\"acc\": \"accuracy\", \"f1\": \"f1\", \"recall\": \"recall\", \"precision\": \"precision\"}\n",
    "\n",
    "scores = {}\n",
    "# Perform cross-validation and compare F1 scores\n",
    "for model_name, pipeline in pipelines.items():\n",
    "    scores[model_name] = cross_validate(\n",
    "        pipeline, X_train, y_train, cv=5, scoring=scoring\n",
    "    )\n",
    "    f1_scores = scores[model_name][\"test_f1\"]\n",
    "    mean_f1 = np.mean(f1_scores)\n",
    "    std_f1 = np.std(f1_scores)"
   ]
  },
  {
   "cell_type": "code",
   "execution_count": 10,
   "metadata": {},
   "outputs": [
    {
     "name": "stderr",
     "output_type": "stream",
     "text": [
      "C:\\Users\\joanp\\AppData\\Local\\Temp\\ipykernel_32380\\299751983.py:12: FutureWarning: The behavior of DataFrame concatenation with empty or all-NA entries is deprecated. In a future version, this will no longer exclude empty or all-NA columns when determining the result dtypes. To retain the old behavior, exclude the relevant entries before the concat operation.\n",
      "  metrics = pd.concat([metrics, tmp])\n"
     ]
    }
   ],
   "source": [
    "# Format the scoring so it can be plotted\n",
    "# fmt:off\n",
    "metrics = pd.DataFrame([], columns=[ \"fit_time\", \"score_time\", \"test_acc\", \"test_f1\",\n",
    "                                    \"test_recall\", \"test_precision\", \"model_name\"])\n",
    "\n",
    "# fmt:on\n",
    "\n",
    "for model_name in scores.keys():\n",
    "    tmp = pd.DataFrame(scores[model_name])\n",
    "    tmp[\"model_name\"] = model_name\n",
    "\n",
    "    metrics = pd.concat([metrics, tmp])"
   ]
  },
  {
   "cell_type": "markdown",
   "metadata": {},
   "source": [
    "### Model competition results"
   ]
  },
  {
   "cell_type": "code",
   "execution_count": 11,
   "metadata": {},
   "outputs": [
    {
     "data": {
      "image/png": "[encoded data removed]",
      "text/plain": [
       "<Figure size 640x480 with 4 Axes>"
      ]
     },
     "metadata": {},
     "output_type": "display_data"
    }
   ],
   "source": [
    "# Plot competition results\n",
    "\n",
    "fig, ax = plt.subplots(1, 4, sharey=True)\n",
    "\n",
    "for (i, metric), ylabel in zip(\n",
    "    enumerate([\"test_f1\", \"test_precision\", \"test_recall\", \"test_acc\"]),\n",
    "    [\"F1\", \"Precision\", \"Recall\", \"Acc\"],\n",
    "):\n",
    "    sns.pointplot(data=metrics, x=metric, linestyle=\"none\", y=\"model_name\", ax=ax[i])\n",
    "    ax[i].set_ylabel(None)\n",
    "    ax[i].set_xlabel(ylabel)\n",
    "    ax[i].set_xlim([0.65, 0.95])\n",
    "\n",
    "    ranking = metrics.groupby(\"model_name\")[metric].mean().sort_values(ascending=False)\n",
    "\n",
    "    ax[i].scatter(\n",
    "        ranking.values[0],\n",
    "        list(models).index(ranking.index[0]),\n",
    "        color=\"r\",\n",
    "        marker=\"o\",\n",
    "        s=150,\n",
    "    )\n",
    "\n",
    "fig.suptitle(\"Model Selection\")\n",
    "plt.tight_layout()\n",
    "fig.savefig(\"../figures/40.binary_classifier_model_selection.png\")"
   ]
  },
  {
   "cell_type": "code",
   "execution_count": 12,
   "metadata": {},
   "outputs": [
    {
     "data": {
      "text/html": [
       "<div>\n",
       "<style scoped>\n",
       "    .dataframe tbody tr th:only-of-type {\n",
       "        vertical-align: middle;\n",
       "    }\n",
       "\n",
       "    .dataframe tbody tr th {\n",
       "        vertical-align: top;\n",
       "    }\n",
       "\n",
       "    .dataframe thead th {\n",
       "        text-align: right;\n",
       "    }\n",
       "</style>\n",
       "<table border=\"1\" class=\"dataframe\">\n",
       "  <thead>\n",
       "    <tr style=\"text-align: right;\">\n",
       "      <th></th>\n",
       "      <th>fit_time</th>\n",
       "      <th>score_time</th>\n",
       "      <th>test_acc</th>\n",
       "      <th>test_f1</th>\n",
       "      <th>test_recall</th>\n",
       "      <th>test_precision</th>\n",
       "    </tr>\n",
       "    <tr>\n",
       "      <th>model_name</th>\n",
       "      <th></th>\n",
       "      <th></th>\n",
       "      <th></th>\n",
       "      <th></th>\n",
       "      <th></th>\n",
       "      <th></th>\n",
       "    </tr>\n",
       "  </thead>\n",
       "  <tbody>\n",
       "    <tr>\n",
       "      <th>SVM</th>\n",
       "      <td>0.019085</td>\n",
       "      <td>0.004437</td>\n",
       "      <td>0.818235</td>\n",
       "      <td>0.815148</td>\n",
       "      <td>0.829047</td>\n",
       "      <td>0.802999</td>\n",
       "    </tr>\n",
       "    <tr>\n",
       "      <th>Logistic Reg.</th>\n",
       "      <td>0.009764</td>\n",
       "      <td>0.004420</td>\n",
       "      <td>0.801697</td>\n",
       "      <td>0.794446</td>\n",
       "      <td>0.794912</td>\n",
       "      <td>0.795656</td>\n",
       "    </tr>\n",
       "    <tr>\n",
       "      <th>Neural Network</th>\n",
       "      <td>0.273720</td>\n",
       "      <td>0.006259</td>\n",
       "      <td>0.801675</td>\n",
       "      <td>0.793167</td>\n",
       "      <td>0.786216</td>\n",
       "      <td>0.801823</td>\n",
       "    </tr>\n",
       "    <tr>\n",
       "      <th>AdaBoost</th>\n",
       "      <td>0.057968</td>\n",
       "      <td>0.005467</td>\n",
       "      <td>0.799613</td>\n",
       "      <td>0.790556</td>\n",
       "      <td>0.782146</td>\n",
       "      <td>0.799227</td>\n",
       "    </tr>\n",
       "    <tr>\n",
       "      <th>K-NN</th>\n",
       "      <td>0.000242</td>\n",
       "      <td>0.009020</td>\n",
       "      <td>0.791409</td>\n",
       "      <td>0.786236</td>\n",
       "      <td>0.790564</td>\n",
       "      <td>0.784109</td>\n",
       "    </tr>\n",
       "    <tr>\n",
       "      <th>Naive Bayes</th>\n",
       "      <td>0.002901</td>\n",
       "      <td>0.006552</td>\n",
       "      <td>0.795425</td>\n",
       "      <td>0.781218</td>\n",
       "      <td>0.760500</td>\n",
       "      <td>0.806138</td>\n",
       "    </tr>\n",
       "    <tr>\n",
       "      <th>Random Forest</th>\n",
       "      <td>0.109433</td>\n",
       "      <td>0.011508</td>\n",
       "      <td>0.791323</td>\n",
       "      <td>0.780932</td>\n",
       "      <td>0.769195</td>\n",
       "      <td>0.793851</td>\n",
       "    </tr>\n",
       "    <tr>\n",
       "      <th>LightGBM</th>\n",
       "      <td>0.066453</td>\n",
       "      <td>0.006813</td>\n",
       "      <td>0.783119</td>\n",
       "      <td>0.777590</td>\n",
       "      <td>0.786401</td>\n",
       "      <td>0.769626</td>\n",
       "    </tr>\n",
       "    <tr>\n",
       "      <th>XGBoost</th>\n",
       "      <td>0.057898</td>\n",
       "      <td>0.009115</td>\n",
       "      <td>0.770619</td>\n",
       "      <td>0.763871</td>\n",
       "      <td>0.769103</td>\n",
       "      <td>0.759205</td>\n",
       "    </tr>\n",
       "    <tr>\n",
       "      <th>Decision Tree</th>\n",
       "      <td>0.003125</td>\n",
       "      <td>0.004299</td>\n",
       "      <td>0.714820</td>\n",
       "      <td>0.705367</td>\n",
       "      <td>0.709066</td>\n",
       "      <td>0.703791</td>\n",
       "    </tr>\n",
       "  </tbody>\n",
       "</table>\n",
       "</div>"
      ],
      "text/plain": [
       "                fit_time  score_time  test_acc   test_f1  test_recall  \\\n",
       "model_name                                                              \n",
       "SVM             0.019085    0.004437  0.818235  0.815148     0.829047   \n",
       "Logistic Reg.   0.009764    0.004420  0.801697  0.794446     0.794912   \n",
       "Neural Network  0.273720    0.006259  0.801675  0.793167     0.786216   \n",
       "AdaBoost        0.057968    0.005467  0.799613  0.790556     0.782146   \n",
       "K-NN            0.000242    0.009020  0.791409  0.786236     0.790564   \n",
       "Naive Bayes     0.002901    0.006552  0.795425  0.781218     0.760500   \n",
       "Random Forest   0.109433    0.011508  0.791323  0.780932     0.769195   \n",
       "LightGBM        0.066453    0.006813  0.783119  0.777590     0.786401   \n",
       "XGBoost         0.057898    0.009115  0.770619  0.763871     0.769103   \n",
       "Decision Tree   0.003125    0.004299  0.714820  0.705367     0.709066   \n",
       "\n",
       "                test_precision  \n",
       "model_name                      \n",
       "SVM                   0.802999  \n",
       "Logistic Reg.         0.795656  \n",
       "Neural Network        0.801823  \n",
       "AdaBoost              0.799227  \n",
       "K-NN                  0.784109  \n",
       "Naive Bayes           0.806138  \n",
       "Random Forest         0.793851  \n",
       "LightGBM              0.769626  \n",
       "XGBoost               0.759205  \n",
       "Decision Tree         0.703791  "
      ]
     },
     "execution_count": 12,
     "metadata": {},
     "output_type": "execute_result"
    }
   ],
   "source": [
    "f1_ranking = (\n",
    "    metrics.groupby(\"model_name\").mean().sort_values(by=\"test_f1\", ascending=False)\n",
    ")\n",
    "f1_winner = f1_ranking.index[0]\n",
    "\n",
    "f1_ranking"
   ]
  },
  {
   "cell_type": "code",
   "execution_count": 13,
   "metadata": {},
   "outputs": [
    {
     "name": "stdout",
     "output_type": "stream",
     "text": [
      "              precision    recall  f1-score   support\n",
      "\n",
      "           0       0.77      0.81      0.79       108\n",
      "           1       0.78      0.74      0.76       100\n",
      "\n",
      "    accuracy                           0.77       208\n",
      "   macro avg       0.77      0.77      0.77       208\n",
      "weighted avg       0.77      0.77      0.77       208\n",
      "\n"
     ]
    }
   ],
   "source": [
    "pipelines[f1_winner].fit(X_train, y_train)\n",
    "y_pred = pipelines[f1_winner].predict(X_test)\n",
    "print(classification_report(y_test, y_pred))"
   ]
  },
  {
   "cell_type": "markdown",
   "metadata": {},
   "source": [
    "## Hyper-parameter Tunning"
   ]
  },
  {
   "cell_type": "code",
   "execution_count": 14,
   "metadata": {},
   "outputs": [],
   "source": [
    "from sklearn.model_selection import GridSearchCV, StratifiedKFold\n",
    "\n",
    "# Define the parameter grid for grid search\n",
    "param_grid = {\n",
    "    \"SVM\": {\n",
    "        \"classifier__C\": [0.1, 1, 10],  # Regularization parameter\n",
    "        \"classifier__kernel\": [\"linear\", \"poly\", \"rbf\", \"sigmoid\"],  # Kernel function\n",
    "        # Degree of the polynomial kernel (if 'poly' kernel is selected)\n",
    "        \"classifier__degree\": [2, 3, 4],\n",
    "        # Kernel coefficient for 'rbf', 'poly', and 'sigmoid' kernels\n",
    "        \"classifier__gamma\": [\"scale\", \"auto\", 0.1, 1, 10],\n",
    "    }\n",
    "}\n",
    "\n",
    "# Initialize StratifiedKFold for cross-validation\n",
    "cv = StratifiedKFold(n_splits=5, shuffle=True, random_state=42)\n",
    "\n",
    "# Initialize the GridSearchCV with F1 score as the scoring metric\n",
    "grid_search = GridSearchCV(\n",
    "    estimator=pipelines[f1_winner],\n",
    "    param_grid=param_grid[f1_winner],\n",
    "    scoring=\"f1\",\n",
    "    cv=cv,\n",
    ")\n",
    "\n",
    "# Perform grid search to find the best hyperparameters\n",
    "grid_search.fit(X_train, y_train)\n",
    "\n",
    "# Get the best hyperparameters\n",
    "best_params = grid_search.best_params_"
   ]
  },
  {
   "cell_type": "code",
   "execution_count": 15,
   "metadata": {},
   "outputs": [
    {
     "name": "stdout",
     "output_type": "stream",
     "text": [
      "              precision    recall  f1-score   support\n",
      "\n",
      "           0       0.79      0.82      0.81       108\n",
      "           1       0.80      0.77      0.79       100\n",
      "\n",
      "    accuracy                           0.80       208\n",
      "   macro avg       0.80      0.80      0.80       208\n",
      "weighted avg       0.80      0.80      0.80       208\n",
      "\n"
     ]
    }
   ],
   "source": [
    "y_pred = grid_search.best_estimator_.predict(X_test)\n",
    "print(classification_report(y_test, y_pred))"
   ]
  },
  {
   "cell_type": "code",
   "execution_count": 16,
   "metadata": {},
   "outputs": [
    {
     "data": {
      "image/png": "[encoded data removed]",
      "text/plain": [
       "<Figure size 500x300 with 2 Axes>"
      ]
     },
     "metadata": {},
     "output_type": "display_data"
    }
   ],
   "source": [
    "from sklearn.metrics import ConfusionMatrixDisplay\n",
    "\n",
    "fig, ax = plt.subplots(1, 2, sharey=True, figsize=(5, 3))\n",
    "ConfusionMatrixDisplay.from_predictions(y_test, y_pred, ax=ax[0], colorbar=False)\n",
    "ConfusionMatrixDisplay.from_predictions(\n",
    "    y_test,\n",
    "    y_pred,\n",
    "    normalize=\"true\",\n",
    "    values_format=\".2f\",\n",
    "    ax=ax[1],\n",
    "    im_kw={\"vmin\": 0, \"vmax\": 1},\n",
    "    colorbar=False,\n",
    ")\n",
    "fig.suptitle(\"Confusion Matrix\")\n",
    "ax[0].set_title(\"Counts\")\n",
    "ax[1].set_title(\"Proportions\")\n",
    "ax[1].set_ylabel(None)\n",
    "plt.savefig(\"../figures/40.binary_confusion_matrix.png\")"
   ]
  },
  {
   "cell_type": "markdown",
   "metadata": {},
   "source": [
    "### Save trained best model"
   ]
  },
  {
   "cell_type": "code",
   "execution_count": 17,
   "metadata": {},
   "outputs": [
    {
     "data": {
      "text/plain": [
       "['../models/best_binary_classifier.pkl']"
      ]
     },
     "execution_count": 17,
     "metadata": {},
     "output_type": "execute_result"
    }
   ],
   "source": [
    "import joblib\n",
    "\n",
    "model_filename = \"../models/best_binary_classifier.pkl\"\n",
    "joblib.dump(grid_search.best_estimator_, model_filename)"
   ]
  }
 ],
 "metadata": {
  "kernelspec": {
   "display_name": "base",
   "language": "python",
   "name": "python3"
  },
  "language_info": {
   "codemirror_mode": {
    "name": "ipython",
    "version": 3
   },
   "file_extension": ".py",
   "mimetype": "text/x-python",
   "name": "python",
   "nbconvert_exporter": "python",
   "pygments_lexer": "ipython3",
   "version": "3.11.5"
  }
 },
 "nbformat": 4,
 "nbformat_minor": 2
}
