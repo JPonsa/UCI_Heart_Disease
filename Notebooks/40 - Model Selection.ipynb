{
 "cells": [
  {
   "cell_type": "markdown",
   "metadata": {},
   "source": [
    "### Intro\n",
    "\n",
    "I will perform a competition of different methods. Methods were selected to cover different families of ML models. Preliminary result of the expected performance can be seen at https://archive.ics.uci.edu/dataset/45/heart+disease > \"Baseline Model Performance\"\n",
    "\n",
    "Ranking metric: F1 score\n",
    "\n",
    "Model Competition: \n",
    "\n",
    "1. **Logistic Regression**:\n",
    "   - Description: Logistic Regression is a linear model that is commonly used for binary classification tasks. It models the probability of a binary outcome using the logistic function.\n",
    "\n",
    "2. **XGBoost (Extreme Gradient Boosting)**:\n",
    "   - Description: XGBoost is a gradient boosting framework known for its high performance and accuracy in classification tasks. It is an ensemble learning method that combines multiple decision trees.\n",
    "\n",
    "3. **LightGBM (Light Gradient Boosting Machine)**:\n",
    "   - Description: LightGBM is another gradient boosting framework that is highly efficient and handles large datasets with ease. It uses a histogram-based approach to improve training speed.\n",
    "\n",
    "4. **Neural Network**:\n",
    "   - Description: A neural network-based model, such as a deep feedforward neural network or a convolutional neural network, can capture complex patterns in data for classification tasks. It is highly versatile and can be adapted for various tasks.\n",
    "\n",
    "5. **Random Forest**:\n",
    "   - Description: Random Forest is an ensemble learning method that combines multiple decision trees to improve classification accuracy. It is robust, handles overfitting well, and can capture complex relationships in the data.\n",
    "\n",
    "6. **Support Vector Machine (SVM)**:\n",
    "   - Description: Support Vector Machines are powerful classifiers that aim to find the optimal hyperplane to separate different classes in the data. They are effective for both linear and nonlinear classification tasks.\n",
    "\n",
    "7. **K-Nearest Neighbors**:\n",
    "   - Description: K-Nearest Neighbors is a simple and effective classification algorithm that classifies data points based on the majority class among their k-nearest neighbors in the feature space.\n",
    "\n",
    "8. **Naive Bayes**:\n",
    "   - Description: Naive Bayes is a probabilistic classification algorithm based on Bayes' theorem. It assumes that features are conditionally independent, making it computationally efficient and effective for text classification tasks.\n",
    "\n",
    "9. **Decision Tree**:\n",
    "   - Description: Decision Trees are a non-parametric classification algorithm that splits the data into different classes by making decisions based on features at each node of the tree. They are interpretable and can model complex decision boundaries.\n",
    "\n",
    "10. **AdaBoost (Adaptive Boosting)**:\n",
    "    - Description: AdaBoost is an ensemble learning method that combines multiple weak classifiers to create a strong classifier. It focuses on misclassified instances in each iteration, improving classification accuracy.\n"
   ]
  },
  {
   "cell_type": "code",
   "execution_count": 197,
   "metadata": {},
   "outputs": [],
   "source": [
    "from collections import Counter\n",
    "import numpy as np\n",
    "import pandas as pd\n",
    "\n",
    "import matplotlib.pyplot as plt\n",
    "import seaborn as sns\n",
    "\n",
    "from sklearn.compose import ColumnTransformer\n",
    "\n",
    "from sklearn.model_selection import train_test_split\n",
    "from sklearn.pipeline import Pipeline\n",
    "from sklearn.preprocessing import RobustScaler\n",
    "\n",
    "\n",
    "from sklearn.linear_model import LogisticRegression\n",
    "from xgboost import XGBClassifier\n",
    "from lightgbm import LGBMClassifier\n",
    "from sklearn.neural_network import MLPClassifier\n",
    "from sklearn.ensemble import RandomForestClassifier, AdaBoostClassifier\n",
    "from sklearn.svm import SVC\n",
    "from sklearn.neighbors import KNeighborsClassifier\n",
    "from sklearn.naive_bayes import GaussianNB\n",
    "from sklearn.tree import DecisionTreeClassifier"
   ]
  },
  {
   "cell_type": "code",
   "execution_count": 198,
   "metadata": {},
   "outputs": [],
   "source": [
    "# Load Dataset\n",
    "df = pd.read_csv(\"../Data/uci_heart_disease.processed.tsv\", sep=\"\\t\")"
   ]
  },
  {
   "cell_type": "code",
   "execution_count": 199,
   "metadata": {},
   "outputs": [],
   "source": [
    "# Set random Seed\n",
    "np.random.seed(123)"
   ]
  },
  {
   "cell_type": "code",
   "execution_count": 200,
   "metadata": {},
   "outputs": [],
   "source": [
    "# Define relevant features\n",
    "# fmt:off\n",
    "numeric_features = [\"age\", \"trestbps\", \"thalach\", \"oldpeak\"]\n",
    "binary_features = [\"sex\", \"cp_1\", \"cp_2\", \"cp_3\", \"restecg_1\", \"restecg_2\", \"exang\"]\n",
    "features = numeric_features + binary_features\n",
    "# fmt:on\n",
    "target = \"num_01\""
   ]
  },
  {
   "cell_type": "code",
   "execution_count": 201,
   "metadata": {},
   "outputs": [],
   "source": [
    "# Split Train and test datasets\n",
    "X = df[features]\n",
    "y = df[target].values\n",
    "\n",
    "X_train, X_test, y_train, y_test = train_test_split(X, y, test_size=0.3, stratify=y)"
   ]
  },
  {
   "cell_type": "code",
   "execution_count": 202,
   "metadata": {},
   "outputs": [],
   "source": [
    "# Compute the positive weight to balance the sample\n",
    "counter = Counter(y)\n",
    "pos_weight = counter[0] / counter[1]"
   ]
  },
  {
   "cell_type": "code",
   "execution_count": 203,
   "metadata": {},
   "outputs": [],
   "source": [
    "# Set the list of models to compete\n",
    "models = {\n",
    "    \"Logistic Reg.\": LogisticRegression(class_weight=\"balanced\"),\n",
    "    \"XGBoost\": XGBClassifier(scale_pos_weight=pos_weight),\n",
    "    \"LightGBM\": LGBMClassifier(scale_pos_weight=pos_weight),\n",
    "    \"Neural Network\": MLPClassifier(),\n",
    "    \"Random Forest\": RandomForestClassifier(class_weight=\"balanced\"),\n",
    "    \"SVM\": SVC(class_weight=\"balanced\"),\n",
    "    \"K-NN\": KNeighborsClassifier(),\n",
    "    \"Naive Bayes\": GaussianNB(),\n",
    "    \"Decision Tree\": DecisionTreeClassifier(class_weight=\"balanced\"),\n",
    "    \"AdaBoost\": AdaBoostClassifier(),\n",
    "}"
   ]
  },
  {
   "cell_type": "code",
   "execution_count": 204,
   "metadata": {},
   "outputs": [],
   "source": [
    "# General preprocessing\n",
    "preprocessor = ColumnTransformer(\n",
    "    transformers=[\n",
    "        (\"num\", RobustScaler(), numeric_features),\n",
    "        (\"cat\", \"passthrough\", binary_features),\n",
    "    ]\n",
    ")"
   ]
  },
  {
   "cell_type": "code",
   "execution_count": 205,
   "metadata": {},
   "outputs": [
    {
     "name": "stderr",
     "output_type": "stream",
     "text": [
      "c:\\Users\\joanp\\anaconda3\\Lib\\site-packages\\sklearn\\neural_network\\_multilayer_perceptron.py:691: ConvergenceWarning: Stochastic Optimizer: Maximum iterations (200) reached and the optimization hasn't converged yet.\n",
      "  warnings.warn(\n",
      "c:\\Users\\joanp\\anaconda3\\Lib\\site-packages\\sklearn\\neural_network\\_multilayer_perceptron.py:691: ConvergenceWarning: Stochastic Optimizer: Maximum iterations (200) reached and the optimization hasn't converged yet.\n",
      "  warnings.warn(\n",
      "c:\\Users\\joanp\\anaconda3\\Lib\\site-packages\\sklearn\\neural_network\\_multilayer_perceptron.py:691: ConvergenceWarning: Stochastic Optimizer: Maximum iterations (200) reached and the optimization hasn't converged yet.\n",
      "  warnings.warn(\n",
      "c:\\Users\\joanp\\anaconda3\\Lib\\site-packages\\sklearn\\neural_network\\_multilayer_perceptron.py:691: ConvergenceWarning: Stochastic Optimizer: Maximum iterations (200) reached and the optimization hasn't converged yet.\n",
      "  warnings.warn(\n",
      "c:\\Users\\joanp\\anaconda3\\Lib\\site-packages\\sklearn\\neural_network\\_multilayer_perceptron.py:691: ConvergenceWarning: Stochastic Optimizer: Maximum iterations (200) reached and the optimization hasn't converged yet.\n",
      "  warnings.warn(\n"
     ]
    }
   ],
   "source": [
    "# Create pipelines for each model\n",
    "pipelines = {}\n",
    "for model_name, model in models.items():\n",
    "    pipeline = Pipeline([(\"preprocessor\", preprocessor), (\"classifier\", model)])\n",
    "    pipelines[model_name] = pipeline\n",
    "\n",
    "scoring = {\"acc\": \"accuracy\", \"f1\": \"f1\", \"recall\": \"recall\", \"precision\": \"precision\"}\n",
    "\n",
    "scores = {}\n",
    "# Perform cross-validation and compare F1 scores\n",
    "for model_name, pipeline in pipelines.items():\n",
    "    scores[model_name] = cross_validate(pipeline, X, y, cv=5, scoring=scoring)\n",
    "    f1_scores = scores[model_name][\"test_f1\"]\n",
    "    mean_f1 = np.mean(f1_scores)\n",
    "    std_f1 = np.std(f1_scores)"
   ]
  },
  {
   "cell_type": "code",
   "execution_count": 206,
   "metadata": {},
   "outputs": [],
   "source": [
    "# Format the scoring so it can be plotted\n",
    "# fmt:off\n",
    "metrics = pd.DataFrame([], columns=[ \"fit_time\", \"score_time\", \"test_acc\", \"test_f1\",\n",
    "                                    \"test_recall\", \"test_precision\", \"model_name\"])\n",
    "\n",
    "# fmt:on\n",
    "\n",
    "for model_name in scores.keys():\n",
    "    tmp = pd.DataFrame(scores[model_name])\n",
    "    tmp[\"model_name\"] = model_name\n",
    "\n",
    "    metrics = pd.concat([metrics, tmp])"
   ]
  },
  {
   "cell_type": "code",
   "execution_count": 207,
   "metadata": {},
   "outputs": [
    {
     "data": {
      "text/html": [
       "<div>\n",
       "<style scoped>\n",
       "    .dataframe tbody tr th:only-of-type {\n",
       "        vertical-align: middle;\n",
       "    }\n",
       "\n",
       "    .dataframe tbody tr th {\n",
       "        vertical-align: top;\n",
       "    }\n",
       "\n",
       "    .dataframe thead th {\n",
       "        text-align: right;\n",
       "    }\n",
       "</style>\n",
       "<table border=\"1\" class=\"dataframe\">\n",
       "  <thead>\n",
       "    <tr style=\"text-align: right;\">\n",
       "      <th></th>\n",
       "      <th>fit_time</th>\n",
       "      <th>score_time</th>\n",
       "      <th>test_acc</th>\n",
       "      <th>test_f1</th>\n",
       "      <th>test_recall</th>\n",
       "      <th>test_precision</th>\n",
       "    </tr>\n",
       "    <tr>\n",
       "      <th>model_name</th>\n",
       "      <th></th>\n",
       "      <th></th>\n",
       "      <th></th>\n",
       "      <th></th>\n",
       "      <th></th>\n",
       "      <th></th>\n",
       "    </tr>\n",
       "  </thead>\n",
       "  <tbody>\n",
       "    <tr>\n",
       "      <th>SVM</th>\n",
       "      <td>0.004421</td>\n",
       "      <td>0.010198</td>\n",
       "      <td>0.797791</td>\n",
       "      <td>0.805289</td>\n",
       "      <td>0.849275</td>\n",
       "      <td>0.773752</td>\n",
       "    </tr>\n",
       "    <tr>\n",
       "      <th>Logistic Reg.</th>\n",
       "      <td>0.006396</td>\n",
       "      <td>0.003310</td>\n",
       "      <td>0.802026</td>\n",
       "      <td>0.797923</td>\n",
       "      <td>0.797101</td>\n",
       "      <td>0.808846</td>\n",
       "    </tr>\n",
       "    <tr>\n",
       "      <th>K-NN</th>\n",
       "      <td>0.001606</td>\n",
       "      <td>0.009470</td>\n",
       "      <td>0.797812</td>\n",
       "      <td>0.797685</td>\n",
       "      <td>0.811594</td>\n",
       "      <td>0.792788</td>\n",
       "    </tr>\n",
       "    <tr>\n",
       "      <th>Neural Network</th>\n",
       "      <td>0.365108</td>\n",
       "      <td>0.003913</td>\n",
       "      <td>0.796373</td>\n",
       "      <td>0.795405</td>\n",
       "      <td>0.808696</td>\n",
       "      <td>0.789136</td>\n",
       "    </tr>\n",
       "    <tr>\n",
       "      <th>Naive Bayes</th>\n",
       "      <td>0.004406</td>\n",
       "      <td>0.003748</td>\n",
       "      <td>0.799179</td>\n",
       "      <td>0.789994</td>\n",
       "      <td>0.771014</td>\n",
       "      <td>0.819116</td>\n",
       "    </tr>\n",
       "    <tr>\n",
       "      <th>Random Forest</th>\n",
       "      <td>0.113123</td>\n",
       "      <td>0.011795</td>\n",
       "      <td>0.777852</td>\n",
       "      <td>0.778421</td>\n",
       "      <td>0.791304</td>\n",
       "      <td>0.773809</td>\n",
       "    </tr>\n",
       "    <tr>\n",
       "      <th>LightGBM</th>\n",
       "      <td>0.055294</td>\n",
       "      <td>0.009443</td>\n",
       "      <td>0.763526</td>\n",
       "      <td>0.771690</td>\n",
       "      <td>0.808696</td>\n",
       "      <td>0.743078</td>\n",
       "    </tr>\n",
       "    <tr>\n",
       "      <th>AdaBoost</th>\n",
       "      <td>0.049766</td>\n",
       "      <td>0.008295</td>\n",
       "      <td>0.769189</td>\n",
       "      <td>0.768999</td>\n",
       "      <td>0.785507</td>\n",
       "      <td>0.755196</td>\n",
       "    </tr>\n",
       "    <tr>\n",
       "      <th>XGBoost</th>\n",
       "      <td>0.053519</td>\n",
       "      <td>0.009964</td>\n",
       "      <td>0.763536</td>\n",
       "      <td>0.768402</td>\n",
       "      <td>0.794203</td>\n",
       "      <td>0.751391</td>\n",
       "    </tr>\n",
       "    <tr>\n",
       "      <th>Decision Tree</th>\n",
       "      <td>0.007317</td>\n",
       "      <td>0.001599</td>\n",
       "      <td>0.713759</td>\n",
       "      <td>0.702584</td>\n",
       "      <td>0.689855</td>\n",
       "      <td>0.721210</td>\n",
       "    </tr>\n",
       "  </tbody>\n",
       "</table>\n",
       "</div>"
      ],
      "text/plain": [
       "                fit_time  score_time  test_acc   test_f1  test_recall  \\\n",
       "model_name                                                              \n",
       "SVM             0.004421    0.010198  0.797791  0.805289     0.849275   \n",
       "Logistic Reg.   0.006396    0.003310  0.802026  0.797923     0.797101   \n",
       "K-NN            0.001606    0.009470  0.797812  0.797685     0.811594   \n",
       "Neural Network  0.365108    0.003913  0.796373  0.795405     0.808696   \n",
       "Naive Bayes     0.004406    0.003748  0.799179  0.789994     0.771014   \n",
       "Random Forest   0.113123    0.011795  0.777852  0.778421     0.791304   \n",
       "LightGBM        0.055294    0.009443  0.763526  0.771690     0.808696   \n",
       "AdaBoost        0.049766    0.008295  0.769189  0.768999     0.785507   \n",
       "XGBoost         0.053519    0.009964  0.763536  0.768402     0.794203   \n",
       "Decision Tree   0.007317    0.001599  0.713759  0.702584     0.689855   \n",
       "\n",
       "                test_precision  \n",
       "model_name                      \n",
       "SVM                   0.773752  \n",
       "Logistic Reg.         0.808846  \n",
       "K-NN                  0.792788  \n",
       "Neural Network        0.789136  \n",
       "Naive Bayes           0.819116  \n",
       "Random Forest         0.773809  \n",
       "LightGBM              0.743078  \n",
       "AdaBoost              0.755196  \n",
       "XGBoost               0.751391  \n",
       "Decision Tree         0.721210  "
      ]
     },
     "execution_count": 207,
     "metadata": {},
     "output_type": "execute_result"
    }
   ],
   "source": [
    "metrics.groupby(\"model_name\").mean().sort_values(by=\"test_f1\", ascending=False)"
   ]
  },
  {
   "cell_type": "markdown",
   "metadata": {},
   "source": [
    "### Model competition results"
   ]
  },
  {
   "cell_type": "code",
   "execution_count": 208,
   "metadata": {},
   "outputs": [
    {
     "data": {
      "image/png": "[encoded data removed]",
      "text/plain": [
       "<Figure size 640x480 with 4 Axes>"
      ]
     },
     "metadata": {},
     "output_type": "display_data"
    }
   ],
   "source": [
    "# Plot competition results\n",
    "\n",
    "fig, ax = plt.subplots(1, 4, sharey=True)\n",
    "\n",
    "for (i, metric), ylabel in zip(\n",
    "    enumerate([\"test_f1\", \"test_precision\", \"test_recall\", \"test_acc\"]),\n",
    "    [\"F1\", \"Precision\", \"Recall\", \"Acc\"],\n",
    "):\n",
    "    sns.pointplot(data=metrics, x=metric, y=\"model_name\", join=False, ax=ax[i])\n",
    "    ax[i].set_ylabel(None)\n",
    "    ax[i].set_xlabel(ylabel)\n",
    "    ax[i].set_xlim([0.65, 0.95])\n",
    "\n",
    "    ranking = metrics.groupby(\"model_name\")[metric].mean().sort_values(ascending=False)\n",
    "\n",
    "    ax[i].scatter(\n",
    "        ranking.values[0],\n",
    "        list(models).index(ranking.index[0]),\n",
    "        color=\"r\",\n",
    "        marker=\"o\",\n",
    "        s=60,\n",
    "    )\n",
    "\n",
    "fig.suptitle(\"Model Selection\")\n",
    "plt.tight_layout()\n",
    "fig.savefig(\"../Figures/40.model_selection.png\")"
   ]
  },
  {
   "cell_type": "markdown",
   "metadata": {},
   "source": [
    "## Hyper-parameter Tunning"
   ]
  },
  {
   "cell_type": "code",
   "execution_count": 209,
   "metadata": {},
   "outputs": [],
   "source": [
    "from sklearn.model_selection import GridSearchCV, StratifiedKFold\n",
    "\n",
    "# Define the parameter grid for grid search\n",
    "param_grid = {\n",
    "    \"classifier__C\": [0.1, 1, 10],\n",
    "    \"classifier__kernel\": [\"linear\", \"poly\", \"rbf\"],\n",
    "    \"classifier__gamma\": [\"scale\", \"auto\", 0.01, 0.1, 1, 10],\n",
    "}\n",
    "\n",
    "# Initialize StratifiedKFold for cross-validation\n",
    "cv = StratifiedKFold(n_splits=5, shuffle=True, random_state=42)\n",
    "\n",
    "# Initialize the GridSearchCV with F1 score as the scoring metric\n",
    "grid_search = GridSearchCV(\n",
    "    estimator=pipelines[\"SVM\"], param_grid=param_grid, scoring=\"f1\", cv=cv\n",
    ")\n",
    "\n",
    "# Perform grid search to find the best hyperparameters\n",
    "grid_search.fit(X_train, y_train)\n",
    "\n",
    "# Get the best hyperparameters\n",
    "best_params = grid_search.best_params_"
   ]
  },
  {
   "cell_type": "code",
   "execution_count": 210,
   "metadata": {},
   "outputs": [
    {
     "name": "stdout",
     "output_type": "stream",
     "text": [
      "{'classifier__C': 1, 'classifier__gamma': 0.1, 'classifier__kernel': 'rbf'}\n",
      "0.8081367333427909\n"
     ]
    }
   ],
   "source": [
    "print(best_params)\n",
    "print(grid_search.best_score_)"
   ]
  },
  {
   "cell_type": "code",
   "execution_count": 211,
   "metadata": {},
   "outputs": [
    {
     "name": "stdout",
     "output_type": "stream",
     "text": [
      "              precision    recall  f1-score   support\n",
      "\n",
      "           0       0.82      0.80      0.81       107\n",
      "           1       0.80      0.82      0.81       104\n",
      "\n",
      "    accuracy                           0.81       211\n",
      "   macro avg       0.81      0.81      0.81       211\n",
      "weighted avg       0.81      0.81      0.81       211\n",
      "\n"
     ]
    }
   ],
   "source": [
    "y_pred = grid_search.best_estimator_.predict(X_test)\n",
    "print(classification_report(y_test, y_pred))"
   ]
  },
  {
   "cell_type": "markdown",
   "metadata": {},
   "source": [
    "### Save trained best model"
   ]
  },
  {
   "cell_type": "code",
   "execution_count": 212,
   "metadata": {},
   "outputs": [
    {
     "data": {
      "text/plain": [
       "['../Models/best_model.pkl']"
      ]
     },
     "execution_count": 212,
     "metadata": {},
     "output_type": "execute_result"
    }
   ],
   "source": [
    "import joblib\n",
    "\n",
    "model_filename = \"../Models/best_model.pkl\"\n",
    "joblib.dump(grid_search.best_estimator_, model_filename)"
   ]
  }
 ],
 "metadata": {
  "kernelspec": {
   "display_name": "base",
   "language": "python",
   "name": "python3"
  },
  "language_info": {
   "codemirror_mode": {
    "name": "ipython",
    "version": 3
   },
   "file_extension": ".py",
   "mimetype": "text/x-python",
   "name": "python",
   "nbconvert_exporter": "python",
   "pygments_lexer": "ipython3",
   "version": "3.11.4"
  }
 },
 "nbformat": 4,
 "nbformat_minor": 2
}
