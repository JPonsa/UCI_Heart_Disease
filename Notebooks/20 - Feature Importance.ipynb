{
 "cells": [
  {
   "cell_type": "markdown",
   "metadata": {},
   "source": [
    "During the data exploration (see notebook 10 - EDA), I noticed that that large number of records (>250) contained missing values for fields \"sloppe\", \"ca\", \"thal\". I want to determine the importance of these features in the classification of heart diseases.\n",
    "\n",
    "The cleveland subset contains very few missing values and it has been used in previous studies to determine predictive value of this dataset. \n",
    "\n",
    "I will use the cleveland subset to determine the feature importance in a Random Forest Classifier (using xgboost) for (i) binary classification (heart diseases yes or no) and (ii) multi-class classification."
   ]
  },
  {
   "cell_type": "code",
   "execution_count": 1,
   "metadata": {},
   "outputs": [],
   "source": [
    "from collections import Counter\n",
    "import numpy as np\n",
    "import matplotlib.pyplot as plt\n",
    "import pandas as pd\n",
    "import seaborn as sns\n",
    "\n",
    "\n",
    "from sklearn.compose import ColumnTransformer\n",
    "from sklearn.metrics import accuracy_score, classification_report, f1_score\n",
    "from sklearn.model_selection import train_test_split\n",
    "from sklearn.pipeline import Pipeline\n",
    "from sklearn.preprocessing import RobustScaler\n",
    "from sklearn.utils.class_weight import compute_sample_weight\n",
    "\n",
    "from xgboost import XGBClassifier"
   ]
  },
  {
   "cell_type": "code",
   "execution_count": 2,
   "metadata": {},
   "outputs": [],
   "source": [
    "df = pd.read_csv(\"../Data/uci_heart_disease.processed.four_databases.tsv\", sep=\"\\t\")\n",
    "df = df[df.data_center == \"cleveland\"]\n",
    "df.dropna(inplace=True)"
   ]
  },
  {
   "cell_type": "code",
   "execution_count": 3,
   "metadata": {},
   "outputs": [],
   "source": [
    "df[\"cp_1\"] = 0\n",
    "df.loc[df[\"cp\"] == 1, \"cp_1\"] = 1\n",
    "df[\"cp_2\"] = 0\n",
    "df.loc[df[\"cp\"] == 2, \"cp_2\"] = 1\n",
    "df[\"cp_3\"] = 0\n",
    "df.loc[df[\"cp\"] == 3, \"cp_3\"] = 1\n",
    "\n",
    "# restecg 0 = normal, 1 = abnormality, 2 = left ventricular hypertrophy\n",
    "df[\"restecg_1\"] = 0\n",
    "df.loc[df[\"restecg\"] == 1, \"restecg_1\"] = 1\n",
    "df[\"restecg_2\"] = 0\n",
    "df.loc[df[\"restecg\"] == 2, \"restecg_2\"] = 1\n",
    "\n",
    "# slope: 1 = upsloping, 2 =  flat, 3 = downslopling\n",
    "df[\"slope\"].replace({1: 1, 2: 0, 3: -1}, inplace=True)\n",
    "\n",
    "# thal: 3 = normal; 6 = fixed defect; 7 = reversable defect\n",
    "df[\"thal_6\"] = 0\n",
    "df.loc[df[\"thal\"] == 6, \"thal_6\"] = 1\n",
    "df[\"thal_7\"] = 0\n",
    "df.loc[df[\"thal\"] == 7, \"thal_7\"] = 1"
   ]
  },
  {
   "cell_type": "code",
   "execution_count": 4,
   "metadata": {},
   "outputs": [],
   "source": [
    "# fmt: off\n",
    "target = \"num\"\n",
    "\n",
    "binary_features = [\"sex\", \"cp_1\", \"cp_2\", \"cp_3\", \"fbs\", \"restecg_1\", \"restecg_2\", \n",
    "                   \"exang\", \"thal_6\", \"thal_7\"]\n",
    "\n",
    "numeric_features  = [\"age\", \"trestbps\", \"chol\", \"thalach\", \"oldpeak\", \"slope\", \"ca\"]\n",
    "\n",
    "# features with large missing valies\n",
    "missing_features = [\"slope\", \"ca\", \"thal_6\", \"thal_7\"]\n",
    "\n",
    "# remove the features that contain large missing values\n",
    "binary_features = list(set(binary_features) - set(missing_features))\n",
    "numeric_features = list(set(numeric_features) - set(missing_features))\n",
    "\n",
    "features =  binary_features + numeric_features\n",
    "# fmt:on"
   ]
  },
  {
   "cell_type": "code",
   "execution_count": 5,
   "metadata": {},
   "outputs": [],
   "source": [
    "X = df[features]\n",
    "y = df[target].values\n",
    "\n",
    "X_train, X_test, y_train, y_test = train_test_split(\n",
    "    X, y, test_size=0.3, stratify=y, random_state=1\n",
    ")"
   ]
  },
  {
   "cell_type": "code",
   "execution_count": 6,
   "metadata": {},
   "outputs": [],
   "source": [
    "y_train_01 = y_train.copy()\n",
    "y_train_01[np.where(y_train > 0)] = 1\n",
    "\n",
    "y_test_01 = y_test.copy()\n",
    "y_test_01[np.where(y_test > 0)] = 1"
   ]
  },
  {
   "cell_type": "code",
   "execution_count": 7,
   "metadata": {},
   "outputs": [],
   "source": [
    "preprocessor = ColumnTransformer(\n",
    "    transformers=[\n",
    "        (\"num\", RobustScaler(), numeric_features),\n",
    "        (\"cat\", \"passthrough\", binary_features),\n",
    "    ]\n",
    ")"
   ]
  },
  {
   "cell_type": "code",
   "execution_count": 8,
   "metadata": {},
   "outputs": [
    {
     "name": "stdout",
     "output_type": "stream",
     "text": [
      "              precision    recall  f1-score   support\n",
      "\n",
      "           0       0.80      0.85      0.83        48\n",
      "           1       0.82      0.76      0.79        42\n",
      "\n",
      "    accuracy                           0.81        90\n",
      "   macro avg       0.81      0.81      0.81        90\n",
      "weighted avg       0.81      0.81      0.81        90\n",
      "\n"
     ]
    }
   ],
   "source": [
    "counts = Counter(y_train_01)\n",
    "scale_pos_weight = counts[0] / counts[1]\n",
    "\n",
    "# fmt:off\n",
    "pipeline = Pipeline(\n",
    "    [\n",
    "    (\"preprocessor\", preprocessor),\n",
    "    (\"classifier\", XGBClassifier(scale_pos_weight=scale_pos_weight, eval_metric=f1_score)),\n",
    "    ]\n",
    "                    )\n",
    "# fmt:on\n",
    "\n",
    "pipeline.fit(X_train, y_train_01)\n",
    "y_pred_01 = pipeline.predict(X_test)\n",
    "print(classification_report(y_test_01, y_pred_01))"
   ]
  },
  {
   "cell_type": "code",
   "execution_count": 9,
   "metadata": {},
   "outputs": [
    {
     "data": {
      "text/plain": [
       "<Axes: >"
      ]
     },
     "execution_count": 9,
     "metadata": {},
     "output_type": "execute_result"
    },
    {
     "data": {
      "image/png": "[encoded data removed]",
      "text/plain": [
       "<Figure size 640x480 with 1 Axes>"
      ]
     },
     "metadata": {},
     "output_type": "display_data"
    }
   ],
   "source": [
    "pd.DataFrame(\n",
    "    pipeline[\"classifier\"].feature_importances_,\n",
    "    index=features,\n",
    "    columns=[\"feature_importance\"],\n",
    ").plot(kind=\"bar\")"
   ]
  },
  {
   "cell_type": "code",
   "execution_count": 10,
   "metadata": {},
   "outputs": [
    {
     "name": "stdout",
     "output_type": "stream",
     "text": [
      "              precision    recall  f1-score   support\n",
      "\n",
      "           0       0.76      0.85      0.80        48\n",
      "           1       0.08      0.06      0.07        16\n",
      "           2       0.30      0.27      0.29        11\n",
      "           3       0.27      0.27      0.27        11\n",
      "           4       0.00      0.00      0.00         4\n",
      "\n",
      "    accuracy                           0.53        90\n",
      "   macro avg       0.28      0.29      0.29        90\n",
      "weighted avg       0.49      0.53      0.51        90\n",
      "\n"
     ]
    }
   ],
   "source": [
    "# fmt:off\n",
    "pipeline = Pipeline( [(\"preprocessor\", preprocessor), (\"classifier\", XGBClassifier(eval_metric=f1_score))])\n",
    "# fmt:on\n",
    "\n",
    "pipeline.fit(X_train, y_train)\n",
    "y_pred = pipeline.predict(X_test)\n",
    "print(classification_report(y_test, y_pred))"
   ]
  },
  {
   "cell_type": "code",
   "execution_count": 11,
   "metadata": {},
   "outputs": [
    {
     "name": "stdout",
     "output_type": "stream",
     "text": [
      "              precision    recall  f1-score   support\n",
      "\n",
      "           0       0.75      0.83      0.79        48\n",
      "           1       0.13      0.12      0.13        16\n",
      "           2       0.25      0.27      0.26        11\n",
      "           3       0.29      0.18      0.22        11\n",
      "           4       0.00      0.00      0.00         4\n",
      "\n",
      "    accuracy                           0.52        90\n",
      "   macro avg       0.28      0.28      0.28        90\n",
      "weighted avg       0.49      0.52      0.50        90\n",
      "\n"
     ]
    }
   ],
   "source": [
    "# fmt:off\n",
    "pipeline = Pipeline( [(\"preprocessor\", preprocessor), (\"classifier\", XGBClassifier(eval_metric=f1_score))])\n",
    "# fmt:on\n",
    "\n",
    "sample_weights = compute_sample_weight(class_weight=\"balanced\", y=y_train)\n",
    "pipeline.fit(X_train, y_train, classifier__sample_weight=sample_weights)\n",
    "y_pred = pipeline.predict(X_test)\n",
    "print(classification_report(y_test, y_pred))"
   ]
  },
  {
   "cell_type": "code",
   "execution_count": 12,
   "metadata": {},
   "outputs": [
    {
     "data": {
      "text/plain": [
       "<Axes: >"
      ]
     },
     "execution_count": 12,
     "metadata": {},
     "output_type": "execute_result"
    },
    {
     "data": {
      "image/png": "[encoded data removed]",
      "text/plain": [
       "<Figure size 640x480 with 1 Axes>"
      ]
     },
     "metadata": {},
     "output_type": "display_data"
    }
   ],
   "source": [
    "pd.DataFrame(\n",
    "    pipeline[\"classifier\"].feature_importances_,\n",
    "    index=features,\n",
    "    columns=[\"feature_importance\"],\n",
    ").plot(kind=\"bar\")"
   ]
  },
  {
   "cell_type": "code",
   "execution_count": 13,
   "metadata": {},
   "outputs": [
    {
     "name": "stdout",
     "output_type": "stream",
     "text": [
      "XGBoost Accuracy: 0.54\n",
      "SVC Accuracy: 0.54\n",
      "Neural Network Accuracy: 0.49\n"
     ]
    },
    {
     "name": "stderr",
     "output_type": "stream",
     "text": [
      "c:\\Users\\joanp\\anaconda3\\Lib\\site-packages\\sklearn\\neural_network\\_multilayer_perceptron.py:691: ConvergenceWarning: Stochastic Optimizer: Maximum iterations (200) reached and the optimization hasn't converged yet.\n",
      "  warnings.warn(\n"
     ]
    }
   ],
   "source": [
    "import numpy as np\n",
    "import pandas as pd\n",
    "from sklearn.compose import ColumnTransformer\n",
    "from sklearn.pipeline import Pipeline\n",
    "from sklearn.preprocessing import RobustScaler, StandardScaler, OneHotEncoder\n",
    "from sklearn.model_selection import train_test_split\n",
    "from sklearn.svm import SVC\n",
    "from xgboost import XGBClassifier\n",
    "from sklearn.neural_network import MLPClassifier\n",
    "from sklearn.metrics import accuracy_score\n",
    "\n",
    "# Generate sample data (replace with your dataset loading)\n",
    "np.random.seed(0)\n",
    "num_samples = 1000\n",
    "num_features = 10\n",
    "num_numeric_features = 5\n",
    "data = np.random.rand(num_samples, num_features)\n",
    "binary_data = np.random.choice(\n",
    "    [0, 1], size=(num_samples, num_features - num_numeric_features)\n",
    ")\n",
    "X = np.concatenate((data[:, :num_numeric_features], binary_data), axis=1)\n",
    "y = np.random.choice([0, 1], size=num_samples)\n",
    "\n",
    "# Split the data into training and testing sets\n",
    "X_train, X_test, y_train, y_test = train_test_split(\n",
    "    X, y, test_size=0.2, random_state=42\n",
    ")\n",
    "\n",
    "# Define the preprocessor for numeric and binary features\n",
    "numeric_features = list(range(num_numeric_features))\n",
    "binary_features = list(range(num_numeric_features, num_features))\n",
    "\n",
    "preprocessor = ColumnTransformer(\n",
    "    transformers=[\n",
    "        (\"num\", RobustScaler(), numeric_features),\n",
    "        (\n",
    "            \"cat\",\n",
    "            OneHotEncoder(),\n",
    "            binary_features,\n",
    "        ),  # Assuming binary features are categorical\n",
    "    ]\n",
    ")\n",
    "\n",
    "# Create pipelines for each classifier\n",
    "pipelines = []\n",
    "\n",
    "# XGBoost Classifier\n",
    "xgb_pipeline = Pipeline(\n",
    "    [(\"preprocessor\", preprocessor), (\"classifier\", XGBClassifier())]\n",
    ")\n",
    "pipelines.append((\"XGBoost\", xgb_pipeline))\n",
    "\n",
    "# Support Vector Classifier (SVC)\n",
    "svc_pipeline = Pipeline([(\"preprocessor\", preprocessor), (\"classifier\", SVC())])\n",
    "pipelines.append((\"SVC\", svc_pipeline))\n",
    "\n",
    "# Neural Network (Multi-layer Perceptron)\n",
    "mlp_pipeline = Pipeline(\n",
    "    [\n",
    "        (\n",
    "            \"preprocessor\",\n",
    "            ColumnTransformer(\n",
    "                transformers=[\n",
    "                    (\"num\", StandardScaler(), numeric_features),\n",
    "                    (\"cat\", OneHotEncoder(), binary_features),\n",
    "                ]\n",
    "            ),\n",
    "        ),\n",
    "        (\"classifier\", MLPClassifier()),\n",
    "    ]\n",
    ")\n",
    "pipelines.append((\"Neural Network\", mlp_pipeline))\n",
    "\n",
    "# Compare the performance of the classifiers\n",
    "results = []\n",
    "for name, pipeline in pipelines:\n",
    "    pipeline.fit(X_train, y_train)\n",
    "    y_pred = pipeline.predict(X_test)\n",
    "    accuracy = accuracy_score(y_test, y_pred)\n",
    "    results.append((name, accuracy))\n",
    "\n",
    "# Print the results\n",
    "for name, accuracy in results:\n",
    "    print(f\"{name} Accuracy: {accuracy:.2f}\")"
   ]
  }
 ],
 "metadata": {
  "kernelspec": {
   "display_name": "base",
   "language": "python",
   "name": "python3"
  },
  "language_info": {
   "codemirror_mode": {
    "name": "ipython",
    "version": 3
   },
   "file_extension": ".py",
   "mimetype": "text/x-python",
   "name": "python",
   "nbconvert_exporter": "python",
   "pygments_lexer": "ipython3",
   "version": "3.11.4"
  }
 },
 "nbformat": 4,
 "nbformat_minor": 2
}
